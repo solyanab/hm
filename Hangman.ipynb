{
  "nbformat": 4,
  "nbformat_minor": 0,
  "metadata": {
    "colab": {
      "name": "Hangman.ipynb",
      "provenance": [],
      "authorship_tag": "ABX9TyOdKCi8pYknV5Fu0yBX9WAc",
      "include_colab_link": true
    },
    "kernelspec": {
      "name": "python3",
      "display_name": "Python 3"
    },
    "language_info": {
      "name": "python"
    }
  },
  "cells": [
    {
      "cell_type": "markdown",
      "metadata": {
        "id": "view-in-github",
        "colab_type": "text"
      },
      "source": [
        "<a href=\"https://colab.research.google.com/github/solyanab/hm/blob/main/Hangman.ipynb\" target=\"_parent\"><img src=\"https://colab.research.google.com/assets/colab-badge.svg\" alt=\"Open In Colab\"/></a>"
      ]
    },
    {
      "cell_type": "code",
      "metadata": {
        "id": "KW_5gq1z0oba",
        "colab": {
          "base_uri": "https://localhost:8080/"
        },
        "outputId": "3adb3a0e-4788-476d-f83a-d33215f6d725"
      },
      "source": [
        "import random \n",
        "word_list = [\"car\", \"conscious\", \"refrigerator\", \"alphabet\", \"exclusive\", \"phone\", \"amotivation\", \"angeliferous\",\"angried\",\"angsting\", \"beachside\", \"chewy\", \"chillax\", \"cryptocurrency\", \"microfinance\", \"nomophobia\", \"simulate\", \"simple\", \"stuffie\", \"whatevs\" ]\n",
        "random_word = random.choices(word_list)[0]\n",
        "word_letters = list(random_word)\n",
        "chances = 6\n",
        "memory_letters = []\n",
        "dashes = []\n",
        "def letter_dashes(letter_list):\n",
        "    final_list = []\n",
        "    for letter in letter_list:\n",
        "        if letter not in memory_letters:\n",
        "            final_list.append(\"_\")\n",
        "        else:\n",
        "            final_list.append(letter)\n",
        "    return final_list\n",
        "def stringafy(letter_list):\n",
        "    return \" \".join(letter_list)\n",
        "\n",
        "while True:\n",
        "    if chances == 0:\n",
        "        print(f\"You Lost! The word was {random_word}.\")\n",
        "        break\n",
        "    if (\"_\") not in dashes and len(dashes) > 0:    \n",
        "        print(f\"You got all the letters in the word {random_word}! Great job!\")\n",
        "        break        \n",
        "    user = input(\"Guess letter one in the word:\")\n",
        "    memory_letters.append(user)\n",
        "    \n",
        "    dashes = letter_dashes(word_letters)\n",
        "    print(stringafy(dashes))\n",
        "    if user in word_letters:\n",
        "        print(\"Yes! You got one letter in the word.\")\n",
        "    else:\n",
        "        print(\"I'm sorry, but that letter is not in the word.\")\n",
        "        chances = chances - 1\n",
        "    print(f\"You have {chances} chances\")   "
      ],
      "execution_count": 10,
      "outputs": [
        {
          "output_type": "stream",
          "text": [
            "['b', 'e', 'a', 'c', 'h', 's', 'i', 'd', 'e']\n",
            "Guess letter one in the word:b\n",
            "b _ _ _ _ _ _ _ _\n",
            "Yes! You got one letter in the word.\n",
            "You have 6 chances\n",
            "Guess letter one in the word:e\n",
            "b e _ _ _ _ _ _ e\n",
            "Yes! You got one letter in the word.\n",
            "You have 6 chances\n",
            "Guess letter one in the word:a\n",
            "b e a _ _ _ _ _ e\n",
            "Yes! You got one letter in the word.\n",
            "You have 6 chances\n",
            "Guess letter one in the word:c\n",
            "b e a c _ _ _ _ e\n",
            "Yes! You got one letter in the word.\n",
            "You have 6 chances\n",
            "Guess letter one in the word:h\n",
            "b e a c h _ _ _ e\n",
            "Yes! You got one letter in the word.\n",
            "You have 6 chances\n",
            "Guess letter one in the word:i\n",
            "b e a c h _ i _ e\n",
            "Yes! You got one letter in the word.\n",
            "You have 6 chances\n",
            "Guess letter one in the word:s\n",
            "b e a c h s i _ e\n",
            "Yes! You got one letter in the word.\n",
            "You have 6 chances\n",
            "Guess letter one in the word:d\n",
            "b e a c h s i d e\n",
            "Yes! You got one letter in the word.\n",
            "You have 6 chances\n",
            "You got all the letters in the word beachside! Great job!\n"
          ],
          "name": "stdout"
        }
      ]
    }
  ]
}